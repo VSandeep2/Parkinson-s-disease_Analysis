{
 "cells": [
  {
   "cell_type": "markdown",
   "metadata": {
    "id": "Z14tQOK8hj9x"
   },
   "source": [
    "# Types of Classifications "
   ]
  },
  {
   "cell_type": "code",
   "execution_count": 9,
   "metadata": {
    "colab": {
     "base_uri": "https://localhost:8080/"
    },
    "id": "unkXCsPGy804",
    "outputId": "56e33716-fe05-4622-be5d-f9b336233fba"
   },
   "outputs": [
    {
     "name": "stdout",
     "output_type": "stream",
     "text": [
      "Requirement already satisfied: ucimlrepo in c:\\users\\18483\\anaconda3\\lib\\site-packages (0.0.3)\n",
      "Note: you may need to restart the kernel to use updated packages.\n"
     ]
    }
   ],
   "source": [
    "%pip install ucimlrepo"
   ]
  },
  {
   "cell_type": "code",
   "execution_count": 13,
   "metadata": {
    "id": "P4iXj50Ly2iq"
   },
   "outputs": [],
   "source": [
    "import pandas as pd\n",
    "from ucimlrepo import fetch_ucirepo"
   ]
  },
  {
   "cell_type": "code",
   "execution_count": 14,
   "metadata": {
    "colab": {
     "base_uri": "https://localhost:8080/",
     "height": 235
    },
    "id": "N0W0qJYVyxu6",
    "outputId": "1b58f0f9-c84a-492d-b907-ea4f2d9daf7b"
   },
   "outputs": [
    {
     "data": {
      "text/html": [
       "<div>\n",
       "<style scoped>\n",
       "    .dataframe tbody tr th:only-of-type {\n",
       "        vertical-align: middle;\n",
       "    }\n",
       "\n",
       "    .dataframe tbody tr th {\n",
       "        vertical-align: top;\n",
       "    }\n",
       "\n",
       "    .dataframe thead th {\n",
       "        text-align: right;\n",
       "    }\n",
       "</style>\n",
       "<table border=\"1\" class=\"dataframe\">\n",
       "  <thead>\n",
       "    <tr style=\"text-align: right;\">\n",
       "      <th></th>\n",
       "      <th>subject#</th>\n",
       "      <th>age</th>\n",
       "      <th>sex</th>\n",
       "      <th>test_time</th>\n",
       "      <th>Jitter(%)</th>\n",
       "      <th>Jitter(Abs)</th>\n",
       "      <th>Jitter:RAP</th>\n",
       "      <th>Jitter:PPQ5</th>\n",
       "      <th>Jitter:DDP</th>\n",
       "      <th>Shimmer</th>\n",
       "      <th>...</th>\n",
       "      <th>Shimmer:APQ5</th>\n",
       "      <th>Shimmer:APQ11</th>\n",
       "      <th>Shimmer:DDA</th>\n",
       "      <th>NHR</th>\n",
       "      <th>HNR</th>\n",
       "      <th>RPDE</th>\n",
       "      <th>DFA</th>\n",
       "      <th>PPE</th>\n",
       "      <th>motor_UPDRS</th>\n",
       "      <th>total_UPDRS</th>\n",
       "    </tr>\n",
       "  </thead>\n",
       "  <tbody>\n",
       "    <tr>\n",
       "      <th>0</th>\n",
       "      <td>1</td>\n",
       "      <td>72</td>\n",
       "      <td>0</td>\n",
       "      <td>5.6431</td>\n",
       "      <td>0.00662</td>\n",
       "      <td>0.000034</td>\n",
       "      <td>0.00401</td>\n",
       "      <td>0.00317</td>\n",
       "      <td>0.01204</td>\n",
       "      <td>0.02565</td>\n",
       "      <td>...</td>\n",
       "      <td>0.01309</td>\n",
       "      <td>0.01662</td>\n",
       "      <td>0.04314</td>\n",
       "      <td>0.014290</td>\n",
       "      <td>21.640</td>\n",
       "      <td>0.41888</td>\n",
       "      <td>0.54842</td>\n",
       "      <td>0.16006</td>\n",
       "      <td>28.199</td>\n",
       "      <td>34.398</td>\n",
       "    </tr>\n",
       "    <tr>\n",
       "      <th>1</th>\n",
       "      <td>1</td>\n",
       "      <td>72</td>\n",
       "      <td>0</td>\n",
       "      <td>12.6660</td>\n",
       "      <td>0.00300</td>\n",
       "      <td>0.000017</td>\n",
       "      <td>0.00132</td>\n",
       "      <td>0.00150</td>\n",
       "      <td>0.00395</td>\n",
       "      <td>0.02024</td>\n",
       "      <td>...</td>\n",
       "      <td>0.01072</td>\n",
       "      <td>0.01689</td>\n",
       "      <td>0.02982</td>\n",
       "      <td>0.011112</td>\n",
       "      <td>27.183</td>\n",
       "      <td>0.43493</td>\n",
       "      <td>0.56477</td>\n",
       "      <td>0.10810</td>\n",
       "      <td>28.447</td>\n",
       "      <td>34.894</td>\n",
       "    </tr>\n",
       "    <tr>\n",
       "      <th>2</th>\n",
       "      <td>1</td>\n",
       "      <td>72</td>\n",
       "      <td>0</td>\n",
       "      <td>19.6810</td>\n",
       "      <td>0.00481</td>\n",
       "      <td>0.000025</td>\n",
       "      <td>0.00205</td>\n",
       "      <td>0.00208</td>\n",
       "      <td>0.00616</td>\n",
       "      <td>0.01675</td>\n",
       "      <td>...</td>\n",
       "      <td>0.00844</td>\n",
       "      <td>0.01458</td>\n",
       "      <td>0.02202</td>\n",
       "      <td>0.020220</td>\n",
       "      <td>23.047</td>\n",
       "      <td>0.46222</td>\n",
       "      <td>0.54405</td>\n",
       "      <td>0.21014</td>\n",
       "      <td>28.695</td>\n",
       "      <td>35.389</td>\n",
       "    </tr>\n",
       "    <tr>\n",
       "      <th>3</th>\n",
       "      <td>1</td>\n",
       "      <td>72</td>\n",
       "      <td>0</td>\n",
       "      <td>25.6470</td>\n",
       "      <td>0.00528</td>\n",
       "      <td>0.000027</td>\n",
       "      <td>0.00191</td>\n",
       "      <td>0.00264</td>\n",
       "      <td>0.00573</td>\n",
       "      <td>0.02309</td>\n",
       "      <td>...</td>\n",
       "      <td>0.01265</td>\n",
       "      <td>0.01963</td>\n",
       "      <td>0.03317</td>\n",
       "      <td>0.027837</td>\n",
       "      <td>24.445</td>\n",
       "      <td>0.48730</td>\n",
       "      <td>0.57794</td>\n",
       "      <td>0.33277</td>\n",
       "      <td>28.905</td>\n",
       "      <td>35.810</td>\n",
       "    </tr>\n",
       "    <tr>\n",
       "      <th>4</th>\n",
       "      <td>1</td>\n",
       "      <td>72</td>\n",
       "      <td>0</td>\n",
       "      <td>33.6420</td>\n",
       "      <td>0.00335</td>\n",
       "      <td>0.000020</td>\n",
       "      <td>0.00093</td>\n",
       "      <td>0.00130</td>\n",
       "      <td>0.00278</td>\n",
       "      <td>0.01703</td>\n",
       "      <td>...</td>\n",
       "      <td>0.00929</td>\n",
       "      <td>0.01819</td>\n",
       "      <td>0.02036</td>\n",
       "      <td>0.011625</td>\n",
       "      <td>26.126</td>\n",
       "      <td>0.47188</td>\n",
       "      <td>0.56122</td>\n",
       "      <td>0.19361</td>\n",
       "      <td>29.187</td>\n",
       "      <td>36.375</td>\n",
       "    </tr>\n",
       "  </tbody>\n",
       "</table>\n",
       "<p>5 rows × 22 columns</p>\n",
       "</div>"
      ],
      "text/plain": [
       "   subject#  age  sex  test_time  Jitter(%)  Jitter(Abs)  Jitter:RAP  \\\n",
       "0         1   72    0     5.6431    0.00662     0.000034     0.00401   \n",
       "1         1   72    0    12.6660    0.00300     0.000017     0.00132   \n",
       "2         1   72    0    19.6810    0.00481     0.000025     0.00205   \n",
       "3         1   72    0    25.6470    0.00528     0.000027     0.00191   \n",
       "4         1   72    0    33.6420    0.00335     0.000020     0.00093   \n",
       "\n",
       "   Jitter:PPQ5  Jitter:DDP  Shimmer  ...  Shimmer:APQ5  Shimmer:APQ11  \\\n",
       "0      0.00317     0.01204  0.02565  ...       0.01309        0.01662   \n",
       "1      0.00150     0.00395  0.02024  ...       0.01072        0.01689   \n",
       "2      0.00208     0.00616  0.01675  ...       0.00844        0.01458   \n",
       "3      0.00264     0.00573  0.02309  ...       0.01265        0.01963   \n",
       "4      0.00130     0.00278  0.01703  ...       0.00929        0.01819   \n",
       "\n",
       "   Shimmer:DDA       NHR     HNR     RPDE      DFA      PPE  motor_UPDRS  \\\n",
       "0      0.04314  0.014290  21.640  0.41888  0.54842  0.16006       28.199   \n",
       "1      0.02982  0.011112  27.183  0.43493  0.56477  0.10810       28.447   \n",
       "2      0.02202  0.020220  23.047  0.46222  0.54405  0.21014       28.695   \n",
       "3      0.03317  0.027837  24.445  0.48730  0.57794  0.33277       28.905   \n",
       "4      0.02036  0.011625  26.126  0.47188  0.56122  0.19361       29.187   \n",
       "\n",
       "   total_UPDRS  \n",
       "0       34.398  \n",
       "1       34.894  \n",
       "2       35.389  \n",
       "3       35.810  \n",
       "4       36.375  \n",
       "\n",
       "[5 rows x 22 columns]"
      ]
     },
     "execution_count": 14,
     "metadata": {},
     "output_type": "execute_result"
    }
   ],
   "source": [
    "parkinsons_telemonitoring = fetch_ucirepo(id=189)\n",
    "X = parkinsons_telemonitoring.data.features\n",
    "y = parkinsons_telemonitoring.data.targets\n",
    "url = 'https://archive.ics.uci.edu/static/public/189/data.csv'\n",
    "df = pd.read_csv(url)\n",
    "df.head()"
   ]
  },
  {
   "cell_type": "code",
   "execution_count": 15,
   "metadata": {
    "id": "ZE0dZgkWM-Bo"
   },
   "outputs": [],
   "source": [
    "# Import necessary libraries\n",
    "import pandas as pd\n",
    "from sklearn.model_selection import train_test_split\n",
    "from sklearn.metrics import confusion_matrix\n",
    "from sklearn.naive_bayes import GaussianNB\n",
    "from sklearn.metrics.pairwise import euclidean_distances, cosine_similarity"
   ]
  },
  {
   "cell_type": "code",
   "execution_count": 29,
   "metadata": {
    "colab": {
     "base_uri": "https://localhost:8080/"
    },
    "id": "n_yrZGnhMzmF",
    "outputId": "6914a104-feba-4234-dcb5-edeb472fe2a1"
   },
   "outputs": [
    {
     "name": "stdout",
     "output_type": "stream",
     "text": [
      "Dataset Information:\n",
      "---------------------\n",
      "Number of Instances: 5875\n",
      "Number of Features: 22\n",
      "\n",
      "Data Types:\n",
      "subject#           int64\n",
      "age                int64\n",
      "sex                int64\n",
      "test_time        float64\n",
      "Jitter(%)        float64\n",
      "Jitter(Abs)      float64\n",
      "Jitter:RAP       float64\n",
      "Jitter:PPQ5      float64\n",
      "Jitter:DDP       float64\n",
      "Shimmer          float64\n",
      "Shimmer(dB)      float64\n",
      "Shimmer:APQ3     float64\n",
      "Shimmer:APQ5     float64\n",
      "Shimmer:APQ11    float64\n",
      "Shimmer:DDA      float64\n",
      "NHR              float64\n",
      "HNR              float64\n",
      "RPDE             float64\n",
      "DFA              float64\n",
      "PPE              float64\n",
      "motor_UPDRS      float64\n",
      "total_UPDRS      float64\n",
      "dtype: object\n",
      "\n",
      "Missing Values:\n",
      "subject#         0\n",
      "age              0\n",
      "sex              0\n",
      "test_time        0\n",
      "Jitter(%)        0\n",
      "Jitter(Abs)      0\n",
      "Jitter:RAP       0\n",
      "Jitter:PPQ5      0\n",
      "Jitter:DDP       0\n",
      "Shimmer          0\n",
      "Shimmer(dB)      0\n",
      "Shimmer:APQ3     0\n",
      "Shimmer:APQ5     0\n",
      "Shimmer:APQ11    0\n",
      "Shimmer:DDA      0\n",
      "NHR              0\n",
      "HNR              0\n",
      "RPDE             0\n",
      "DFA              0\n",
      "PPE              0\n",
      "motor_UPDRS      0\n",
      "total_UPDRS      0\n",
      "dtype: int64\n",
      "\n",
      "Unique Values:\n",
      "subject#           42\n",
      "age                23\n",
      "sex                 2\n",
      "test_time        2442\n",
      "Jitter(%)        1305\n",
      "Jitter(Abs)      1326\n",
      "Jitter:RAP        853\n",
      "Jitter:PPQ5       840\n",
      "Jitter:DDP       1703\n",
      "Shimmer          3581\n",
      "Shimmer(dB)       852\n",
      "Shimmer:APQ3     2664\n",
      "Shimmer:APQ5     2850\n",
      "Shimmer:APQ11    3283\n",
      "Shimmer:DDA      4223\n",
      "NHR              5532\n",
      "HNR              4780\n",
      "RPDE             5430\n",
      "DFA              5282\n",
      "PPE              4777\n",
      "motor_UPDRS      1080\n",
      "total_UPDRS      1129\n",
      "dtype: int64\n"
     ]
    }
   ],
   "source": [
    "# Assuming you have loaded the dataset and named it 'df'\n",
    "# Display general information about the dataset\n",
    "print(\"Dataset Information:\")\n",
    "print(\"---------------------\")\n",
    "print(f\"Number of Instances: {df.shape[0]}\")\n",
    "print(f\"Number of Features: {df.shape[1]}\")\n",
    "print(\"\\nData Types:\")\n",
    "print(df.dtypes)\n",
    "print(\"\\nMissing Values:\")\n",
    "print(df.isnull().sum())\n",
    "print(\"\\nUnique Values:\")\n",
    "print(df.nunique())"
   ]
  },
  {
   "cell_type": "code",
   "execution_count": 10,
   "metadata": {
    "colab": {
     "base_uri": "https://localhost:8080/"
    },
    "collapsed": true,
    "id": "yKQuB4yRUpUa",
    "outputId": "3fa5ba1d-bd22-42da-a09a-c637a7d8379c"
   },
   "outputs": [
    {
     "name": "stdout",
     "output_type": "stream",
     "text": [
      "\n",
      "Summary Statistics:\n",
      "          subject#          age          sex    test_time    Jitter(%)  \\\n",
      "count  5875.000000  5875.000000  5875.000000  5875.000000  5875.000000   \n",
      "mean     21.494128    64.804936     0.317787    92.863722     0.006154   \n",
      "std      12.372279     8.821524     0.465656    53.445602     0.005624   \n",
      "min       1.000000    36.000000     0.000000    -4.262500     0.000830   \n",
      "25%      10.000000    58.000000     0.000000    46.847500     0.003580   \n",
      "50%      22.000000    65.000000     0.000000    91.523000     0.004900   \n",
      "75%      33.000000    72.000000     1.000000   138.445000     0.006800   \n",
      "max      42.000000    85.000000     1.000000   215.490000     0.099990   \n",
      "\n",
      "       Jitter(Abs)   Jitter:RAP  Jitter:PPQ5   Jitter:DDP      Shimmer  ...  \\\n",
      "count  5875.000000  5875.000000  5875.000000  5875.000000  5875.000000  ...   \n",
      "mean      0.000044     0.002987     0.003277     0.008962     0.034035  ...   \n",
      "std       0.000036     0.003124     0.003732     0.009371     0.025835  ...   \n",
      "min       0.000002     0.000330     0.000430     0.000980     0.003060  ...   \n",
      "25%       0.000022     0.001580     0.001820     0.004730     0.019120  ...   \n",
      "50%       0.000034     0.002250     0.002490     0.006750     0.027510  ...   \n",
      "75%       0.000053     0.003290     0.003460     0.009870     0.039750  ...   \n",
      "max       0.000446     0.057540     0.069560     0.172630     0.268630  ...   \n",
      "\n",
      "       Shimmer:APQ5  Shimmer:APQ11  Shimmer:DDA          NHR          HNR  \\\n",
      "count   5875.000000    5875.000000  5875.000000  5875.000000  5875.000000   \n",
      "mean       0.020144       0.027481     0.051467     0.032120    21.679495   \n",
      "std        0.016664       0.019986     0.039711     0.059692     4.291096   \n",
      "min        0.001940       0.002490     0.004840     0.000286     1.659000   \n",
      "25%        0.010790       0.015665     0.027830     0.010955    19.406000   \n",
      "50%        0.015940       0.022710     0.041110     0.018448    21.920000   \n",
      "75%        0.023755       0.032715     0.061735     0.031463    24.444000   \n",
      "max        0.167020       0.275460     0.488020     0.748260    37.875000   \n",
      "\n",
      "              RPDE          DFA          PPE  motor_UPDRS  total_UPDRS  \n",
      "count  5875.000000  5875.000000  5875.000000  5875.000000  5875.000000  \n",
      "mean      0.541473     0.653240     0.219589    21.296229    29.018942  \n",
      "std       0.100986     0.070902     0.091498     8.129282    10.700283  \n",
      "min       0.151020     0.514040     0.021983     5.037700     7.000000  \n",
      "25%       0.469785     0.596180     0.156340    15.000000    21.371000  \n",
      "50%       0.542250     0.643600     0.205500    20.871000    27.576000  \n",
      "75%       0.614045     0.711335     0.264490    27.596500    36.399000  \n",
      "max       0.966080     0.865600     0.731730    39.511000    54.992000  \n",
      "\n",
      "[8 rows x 22 columns]\n"
     ]
    }
   ],
   "source": [
    "print(\"\\nSummary Statistics:\")\n",
    "print(df.describe())"
   ]
  },
  {
   "cell_type": "code",
   "execution_count": 7,
   "metadata": {
    "id": "ss9xueuGNGH-"
   },
   "outputs": [],
   "source": [
    "# Display information about the target variable ('motor_UPDRS')\n",
    "target_variable = 'motor_UPDRS'\n"
   ]
  },
  {
   "cell_type": "code",
   "execution_count": 9,
   "metadata": {
    "id": "8nMLn-boNKfc"
   },
   "outputs": [],
   "source": [
    "# Formulate binary classification problem\n",
    "threshold = 20  # Choose an appropriate threshold\n",
    "df['target_class'] = (df[target_variable] >= threshold).astype(int)\n"
   ]
  },
  {
   "cell_type": "code",
   "execution_count": 10,
   "metadata": {
    "colab": {
     "base_uri": "https://localhost:8080/"
    },
    "id": "FkSA_6i1NUb9",
    "outputId": "50dd9c50-01f9-4fb1-bf47-6abb6e75c24e"
   },
   "outputs": [
    {
     "name": "stdout",
     "output_type": "stream",
     "text": [
      "\n",
      "Target Variable Information:\n",
      "-----------------------------\n",
      "Number of Unique Classes: 2\n",
      "\n",
      "Class Distribution:\n",
      "target_class\n",
      "1    3115\n",
      "0    2760\n",
      "Name: count, dtype: int64\n"
     ]
    }
   ],
   "source": [
    "# Display information about the target variable (assuming 'y' is your target variable)\n",
    "print(\"\\nTarget Variable Information:\")\n",
    "print(\"-----------------------------\")\n",
    "print(f\"Number of Unique Classes: {df['target_class'].nunique()}\")\n",
    "print(\"\\nClass Distribution:\")\n",
    "print(df['target_class'].value_counts())"
   ]
  },
  {
   "cell_type": "markdown",
   "metadata": {
    "id": "HKMhEXZQSj48"
   },
   "source": [
    "### Probabilistic Classifiier Code"
   ]
  },
  {
   "cell_type": "code",
   "execution_count": 25,
   "metadata": {
    "id": "ER2mvqLlNgjG"
   },
   "outputs": [],
   "source": [
    "# Probabilistic Classifier\n",
    "prob_classifier = GaussianNB()\n",
    "prob_classifier.fit(X_train, y_train)\n",
    "y_prob_pred = prob_classifier.predict(X_test)\n",
    "confusion_mat_prob = confusion_matrix(y_test, y_prob_pred)"
   ]
  },
  {
   "cell_type": "markdown",
   "metadata": {
    "id": "dhz3zt81TWE4"
   },
   "source": [
    "###  Probabilistic Classification Results"
   ]
  },
  {
   "cell_type": "code",
   "execution_count": 16,
   "metadata": {
    "colab": {
     "base_uri": "https://localhost:8080/"
    },
    "id": "DDpXPLWtTjmw",
    "outputId": "ff593d3b-cad4-41fc-9e83-e95f39ae6c4b"
   },
   "outputs": [
    {
     "name": "stdout",
     "output_type": "stream",
     "text": [
      "\n",
      "Probabilistic Classification Results:\n",
      "Confusion Matrix:\n",
      " [[524  39]\n",
      " [246 366]]\n"
     ]
    }
   ],
   "source": [
    "# Probabilistic Classification Results\n",
    "confusion_mat_prob = confusion_matrix(y_test, y_prob_pred)\n",
    "print(\"\\nProbabilistic Classification Results:\")\n",
    "print(\"Confusion Matrix:\\n\", confusion_mat_prob)"
   ]
  },
  {
   "cell_type": "markdown",
   "metadata": {
    "id": "nDBXFcyZW9I6"
   },
   "source": [
    "Probabilistic Classification System:\n",
    "\n",
    "\n",
    "\n",
    "Explanation:\n",
    "\n",
    "\n",
    "The probabilistic classifier predicted 524 instances correctly as 'Class 0' and 366 instances correctly as 'Class 1'.\n",
    "\n",
    "However, there were 246 misclassifications of 'Class 0' as 'Class 1' and 39 misclassifications of 'Class 1' as 'Class 0'.\n",
    "\n",
    "The probabilistic classifier, based on Gaussian Naive Bayes, demonstrated reasonable performance.\n",
    "\n",
    "True Positive (TP): 366 patients correctly classified as having higher motor_UPDRS (>=20).\n",
    "\n",
    "True Negative (TN): 524 patients correctly classified as having lower motor_UPDRS (<20).\n",
    "\n",
    "False Positive (FP): 39 patients misclassified as having higher motor_UPDRS.\n",
    "\n",
    "False Negative (FN): 246 patients misclassified as having lower motor_UPDRS.\n",
    "\n",
    "\n"
   ]
  },
  {
   "cell_type": "markdown",
   "metadata": {
    "id": "_xppqPWVTynk"
   },
   "source": [
    "### Euclidean Distance Classifier & Euclidean Distance Classification Results"
   ]
  },
  {
   "cell_type": "markdown",
   "metadata": {
    "id": "0bziSjF3aiY0"
   },
   "source": [
    "Euclidean Distance Classification System:\n",
    "\n",
    "Implementation:\n",
    "\n",
    "Calculated Euclidean distances between test set samples and training set samples.\n",
    "Assigned the class label of the nearest neighbor in the training set.\n",
    "\n",
    "Results:\n",
    "\n",
    "Produced a confusion matrix (confusion_mat_euclidean) to assess the accuracy and misclassifications of the Euclidean distance classifier."
   ]
  },
  {
   "cell_type": "code",
   "execution_count": 17,
   "metadata": {
    "id": "fNtEsNc7S_b-"
   },
   "outputs": [],
   "source": [
    "# Euclidean Distance Classifier\n",
    "euclidean_X_train = X_train\n",
    "euclidean_y_train = y_train\n",
    "distances_euclidean = euclidean_distances(X_test, euclidean_X_train)"
   ]
  },
  {
   "cell_type": "code",
   "execution_count": 18,
   "metadata": {
    "id": "PEHAQknGNnRz"
   },
   "outputs": [],
   "source": [
    "# Ensure indices are within the range of euclidean_y_train\n",
    "valid_indices = [i for i in distances_euclidean.argmin(axis=1) if i < len(euclidean_y_train)]\n",
    "y_euclidean_pred = [euclidean_y_train.iloc[i] for i in valid_indices]\n"
   ]
  },
  {
   "cell_type": "code",
   "execution_count": 19,
   "metadata": {
    "colab": {
     "base_uri": "https://localhost:8080/"
    },
    "id": "KSQGEHAJNq3M",
    "outputId": "eeff4dc6-f0a3-418c-fd01-aef18bad5523"
   },
   "outputs": [
    {
     "name": "stdout",
     "output_type": "stream",
     "text": [
      "\n",
      "Euclidean Distance Classification Results:\n",
      "Confusion Matrix:\n",
      " [[563   0]\n",
      " [  0 612]]\n"
     ]
    }
   ],
   "source": [
    "confusion_mat_euclidean = confusion_matrix(y_test, y_euclidean_pred)\n",
    "print(\"\\nEuclidean Distance Classification Results:\")\n",
    "print(\"Confusion Matrix:\\n\", confusion_mat_euclidean)"
   ]
  },
  {
   "cell_type": "markdown",
   "metadata": {
    "id": "cBOjl8YpYG2H"
   },
   "source": [
    "Explanation:\n",
    "\n",
    "The Euclidean Distance classifier achieved perfect accuracy.\n",
    "All test samples were correctly classified with no misclassifications.\n",
    "This could indicate a clear separation in the feature space, making samples from different classes easily distinguishable.\n"
   ]
  },
  {
   "cell_type": "markdown",
   "metadata": {
    "id": "f2taonsvUApO"
   },
   "source": [
    "### Cosine Similarity Classifier<br>\n",
    "\n",
    "   ### Cosine Similarity Classification Results\n"
   ]
  },
  {
   "cell_type": "code",
   "execution_count": 26,
   "metadata": {
    "id": "xzKx6l7mNurc"
   },
   "outputs": [],
   "source": [
    "# Cosine Similarity Classifier\n",
    "cosine_X_train = X_train\n",
    "cosine_y_train = y_train\n",
    "similarities_cosine = cosine_similarity(X_test, cosine_X_train)\n"
   ]
  },
  {
   "cell_type": "code",
   "execution_count": 27,
   "metadata": {
    "colab": {
     "base_uri": "https://localhost:8080/"
    },
    "id": "zA2is_PmNxQD",
    "outputId": "5afdd949-fda2-4d92-9827-967b2257a85c",
    "scrolled": true
   },
   "outputs": [
    {
     "name": "stdout",
     "output_type": "stream",
     "text": [
      "\n",
      "Cosine Similarity Classification Results:\n",
      "Confusion Matrix:\n",
      " [[559   4]\n",
      " [  2 610]]\n"
     ]
    }
   ],
   "source": [
    "# Ensure indices are within the range of cosine_y_train\n",
    "valid_indices_cosine = [i for i in similarities_cosine.argmax(axis=1) if i < len(cosine_y_train)]\n",
    "y_cosine_pred = [cosine_y_train.iloc[i] for i in valid_indices_cosine]\n",
    "\n",
    "confusion_mat_cosine = confusion_matrix(y_test, y_cosine_pred)\n",
    "print(\"\\nCosine Similarity Classification Results:\")\n",
    "print(\"Confusion Matrix:\\n\", confusion_mat_cosine)"
   ]
  },
  {
   "cell_type": "markdown",
   "metadata": {
    "id": "Xsle-DFrcB75"
   },
   "source": [
    "The Cosine Similarity classifier had a few misclassifications, with 4 instances of 'Class 0' incorrectly predicted as 'Class 1' and 2 instances of 'Class 1' incorrectly predicted as 'Class 0'.\n"
   ]
  },
  {
   "cell_type": "code",
   "execution_count": 16,
   "metadata": {},
   "outputs": [
    {
     "name": "stdout",
     "output_type": "stream",
     "text": [
      "Accuracy: 99.49%\n"
     ]
    }
   ],
   "source": [
    "conf_matrix = np.array([[559, 4], [2, 610]])\n",
    "\n",
    "def calculate_accuracy(confusion_matrix):\n",
    "    true_positives = confusion_matrix[0, 0]\n",
    "    true_negatives = confusion_matrix[1, 1]\n",
    "    total_population = confusion_matrix.sum()\n",
    "\n",
    "    accuracy = (true_positives + true_negatives) / total_population\n",
    "    return accuracy\n",
    "\n",
    "accuracy = calculate_accuracy(conf_matrix)\n",
    "print(f'Accuracy: {accuracy * 100:.2f}%')\n"
   ]
  },
  {
   "cell_type": "code",
   "execution_count": null,
   "metadata": {},
   "outputs": [],
   "source": []
  },
  {
   "cell_type": "code",
   "execution_count": null,
   "metadata": {},
   "outputs": [],
   "source": []
  }
 ],
 "metadata": {
  "colab": {
   "provenance": []
  },
  "kernelspec": {
   "display_name": "Python 3 (ipykernel)",
   "language": "python",
   "name": "python3"
  },
  "language_info": {
   "codemirror_mode": {
    "name": "ipython",
    "version": 3
   },
   "file_extension": ".py",
   "mimetype": "text/x-python",
   "name": "python",
   "nbconvert_exporter": "python",
   "pygments_lexer": "ipython3",
   "version": "3.9.13"
  }
 },
 "nbformat": 4,
 "nbformat_minor": 1
}
